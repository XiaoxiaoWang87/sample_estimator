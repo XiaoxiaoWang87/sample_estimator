{
 "cells": [
  {
   "cell_type": "code",
   "execution_count": 1,
   "metadata": {
    "collapsed": true
   },
   "outputs": [],
   "source": [
    "import sys\n",
    "import os\n",
    "import operator\n",
    "import copy\n",
    "import re\n",
    "\n",
    "import numpy as np\n",
    "import pandas as pd\n",
    "\n",
    "#import statsmodels.api as sm\n",
    "#from statsmodels.formula.api import logit, probit, poisson, ols\n",
    "from scipy import stats\n",
    "from sklearn import linear_model, datasets\n",
    "from sklearn.linear_model import LogisticRegression\n",
    "\n",
    "%matplotlib inline\n",
    "import matplotlib.pyplot as plt\n",
    "import matplotlib.gridspec as gridspec\n",
    "\n",
    "from collections import defaultdict"
   ]
  },
  {
   "cell_type": "code",
   "execution_count": 107,
   "metadata": {
    "collapsed": false,
    "scrolled": false
   },
   "outputs": [
    {
     "name": "stdout",
     "output_type": "stream",
     "text": [
      "33.6336336336\n",
      "6.40640640641\n"
     ]
    },
    {
     "data": {
      "image/png": "[encoded data removed]",
      "text/plain": [
       "<matplotlib.figure.Figure at 0x10d2ab240>"
      ]
     },
     "metadata": {},
     "output_type": "display_data"
    }
   ],
   "source": [
    "class Power_Estimator(object):\n",
    "\n",
    "    def __init__(self, N, ctrl_frac, trt_frac, ctrl_eff, trt_eff, CL, n_bins):\n",
    "        \n",
    "        self._CL = CL\n",
    "        self._ctrl_n = N * ctrl_frac\n",
    "        self._trt_n = N * trt_frac\n",
    "        \n",
    "        self._ctrl_eff = ctrl_eff\n",
    "        self._trt_eff = trt_eff\n",
    "        \n",
    "        self._pool_eff = (self._ctrl_eff * self._ctrl_n + self._trt_eff * self._trt_n) / (self._ctrl_n + self._trt_n)\n",
    "        \n",
    "    def get_power(self, one_side = True):\n",
    "        \n",
    "        h0_mean = 0\n",
    "        h0_sigma = np.sqrt(self._pool_eff * (1 - self._pool_eff) * (1/self._ctrl_n + 1/self._trt_n))     \n",
    "        #z_alpha = stats.norm.ppf(1-(1-self._CL)/10)\n",
    "        z_alpha = stats.norm.ppf(1-(1-self._CL)/n_bins)\n",
    "        #z_alpha = stats.norm.ppf(self._CL)\n",
    "        \n",
    "        #print('h0 mean: %0.3f, h0 sigma: %0.3f, z alpha %0.3f' % (h0_mean, h0_sigma, z_alpha))\n",
    "        \n",
    "        critical = h0_mean + z_alpha * h0_sigma\n",
    "        \n",
    "        h1_mean = self._trt_eff - self._ctrl_eff\n",
    "        h1_sigma = np.sqrt(self._ctrl_eff * (1 - self._ctrl_eff) / self._ctrl_n + \n",
    "                           self._trt_eff * (1 - self._trt_eff) / self._trt_n)\n",
    "        \n",
    "        power = 1 - stats.norm.cdf(-1 * (h1_mean - critical) / h1_sigma)\n",
    "        \n",
    "        #print('h1 mean: %0.3f, h1 sigma: %0.3f, z beta %0.3f' % (h1_mean, h1_sigma, (h1_mean - critical) / h1_sigma))\n",
    "        \n",
    "        result = {}\n",
    "        \n",
    "        result['power'] = power\n",
    "        result['h0_mean'] = h0_mean\n",
    "        result['h0_sigma'] = h0_sigma\n",
    "        result['z_alpha'] = z_alpha\n",
    "        result['h1_mean'] = h1_mean\n",
    "        result['h1_sigma'] = h1_sigma\n",
    "        result['z_beta'] = (h1_mean - critical) / h1_sigma      \n",
    "        \n",
    "        return(result)\n",
    "    \n",
    "#     def __init__(self, sample_size, ctrl_frac, trt_frac, ctrl_eff, trt_eff, confidence_level):\n",
    "        \n",
    "#         self._confidence_level = confidence_level\n",
    "        \n",
    "#         self._ctrl_size = sample_size * ctrl_frac\n",
    "#         self._trt_size = sample_size * trt_frac\n",
    "        \n",
    "#         self._ctrl_eff = ctrl_eff\n",
    "#         self._trt_eff = trt_eff\n",
    "        \n",
    "#         self._ctrl_err = np.sqrt(self._ctrl_eff * (1 - self._ctrl_eff) / self._ctrl_size)\n",
    "#         self._trt_err = np.sqrt(self._trt_eff * (1 - self._trt_eff) / self._trt_size)\n",
    "    \n",
    "#     def get_power(self, one_side = True):\n",
    "        \n",
    "#         t_stat = stats.norm.ppf(1-(1-self._confidence_level)/10)\n",
    "                   \n",
    "#         a = 1 + t_stat **2 / self._trt_size\n",
    "#         b = - (2*self._ctrl_eff + t_stat**2/self._trt_size)\n",
    "#         c = self._ctrl_eff ** 2 - t_stat**2 * self._ctrl_eff*(1-self._ctrl_eff) / self._ctrl_size\n",
    "        \n",
    "#         eff_critical = (-b + np.sqrt(b**2 - 4*a*c)) / (2*a)\n",
    "                \n",
    "#         err_critical = np.sqrt(eff_critical * (1 - eff_critical) / self._ctrl_size)\n",
    "        \n",
    "#         t_stat_final = (eff_critical - self._trt_eff) / np.sqrt(self._trt_err ** 2 + err_critical ** 2)       \n",
    "        \n",
    "#         power = 1 - stats.norm.cdf(t_stat_final)\n",
    "        \n",
    "#         return(power)\n",
    "\n",
    "\n",
    "\n",
    "# class CL_Estimator(object):\n",
    "    \n",
    "#     def __init__(self, sample_size, ctrl_frac, trt_frac, ctrl_eff, trt_eff):\n",
    "        \n",
    "#         self._ctrl_size = sample_size * ctrl_frac\n",
    "#         self._trt_size = sample_size * trt_frac\n",
    "        \n",
    "#         self._ctrl_eff = ctrl_eff\n",
    "#         self._trt_eff = trt_eff\n",
    "        \n",
    "#         self._ctrl_err = np.sqrt(self._ctrl_eff * (1 - self._ctrl_eff) / self._ctrl_size)\n",
    "#         self._trt_err = np.sqrt(self._trt_eff * (1 - self._trt_eff) / self._trt_size)\n",
    "        \n",
    "#     def get_CL(self, one_side = True):\n",
    "                \n",
    "#         t_stat = (self._trt_eff - self._ctrl_eff) / np.sqrt(self._trt_err ** 2 + self._ctrl_err ** 2)\n",
    "        \n",
    "#         if one_side == True:\n",
    "#             pval = 1 - stats.norm.cdf(t_stat)\n",
    "#         else:\n",
    "#             pval = 2 * (1 - stats.norm.cdf(t_stat))\n",
    "        \n",
    "#         pval *= 10\n",
    "        \n",
    "#         if pval >= 1:\n",
    "#             cl = 0\n",
    "#         else:\n",
    "#             cl = 1 - pval\n",
    "        \n",
    "#         return(cl)\n",
    "    \n",
    "    \n",
    "    \n",
    "# class Frac_Estimator(object):\n",
    "\n",
    "#     def __init__(self, sample_size, confidence_level, n_trts, ctrl_eff, trt_eff):\n",
    "        \n",
    "#         self._sample_size = sample_size\n",
    "#         self._confidence_level = confidence_level        \n",
    "            \n",
    "#         self._n_trts = n_trts\n",
    "        \n",
    "#         self._ctrl_eff = ctrl_eff\n",
    "#         self._trt_eff = trt_eff   \n",
    "    \n",
    "#     def get_size(self, one_side = True):\n",
    "        \n",
    "#         if one_side == True:\n",
    "#             t_stat = stats.norm.ppf(self._confidence_level)\n",
    "#         else:\n",
    "#             t_stat = stats.norm.ppf(self._confidence_level + (1 - self._confidence_level) / 2)\n",
    "            \n",
    "#         c1 = self._trt_eff * (1 - self._trt_eff)\n",
    "#         c2 = self._ctrl_eff * (1 - self._ctrl_eff)\n",
    "        \n",
    "#         a = ((self._trt_eff - self._ctrl_eff) / t_stat)**2 * self._sample_size * self._n_trts\n",
    "        \n",
    "#         b = c2 - self._n_trts * c1 - ((self._trt_eff - self._ctrl_eff) / t_stat)**2 * self._sample_size\n",
    "        \n",
    "#         c = c1  \n",
    "        \n",
    "#         est_frac = (-b - np.sqrt(b**2 - 4*a*c)) / (2*a)\n",
    "        \n",
    "#         return(est_frac)\n",
    "\n",
    "\n",
    "########################\n",
    "## Analysis starts here\n",
    "########################\n",
    "\n",
    "\n",
    "    \n",
    "#test_frac = np.linspace(0, 0.2, num=1000)\n",
    "test_frac = np.linspace(0, 1, num=1000)\n",
    "test_power = []\n",
    "test_2_power = []\n",
    "\n",
    "n_bins = 6\n",
    "magnitude = 1.1\n",
    "magnitude_2 = 1.2\n",
    "\n",
    "\n",
    "for x in test_frac:\n",
    "    # Half of the test x will be allocated to down shift, and half up => control is 1 - 2*x\n",
    "    #power = Power_Estimator(120000, (1 - 2*x) * 0.1, x * 0.1, 0.32, 0.32 * 1.15, 0.95) \n",
    "    power = Power_Estimator(120000, 0.35 / n_bins, x / n_bins, 0.32, 0.32 * magnitude, 0.95, n_bins) \n",
    "    #power = Power_Estimator(120000, (1 - 2*x), x, 0.32, 0.32 * 1.1, 0.95)   \n",
    "    test_power.append(power.get_power(one_side = True)['power'])\n",
    "    \n",
    "    power_2 = Power_Estimator(120000, 0.35 / n_bins, x / n_bins, 0.32, 0.32 * magnitude_2, 0.95, n_bins) \n",
    "    test_2_power.append(power_2.get_power(one_side = True)['power'])\n",
    "\n",
    "    \n",
    "def get_threshold(test_frac, test_power):\n",
    "\n",
    "    first_90 = True\n",
    "    first_80 = True\n",
    "    first_70 = True\n",
    "\n",
    "    threshold_90 = 0\n",
    "    threshold_80 = 0\n",
    "    threshold_70 = 0\n",
    "\n",
    "    for x, power in zip(2 * test_frac * 100, np.array(test_power) * 100):\n",
    "        if power >= 90 and first_90 == True:\n",
    "            #print(x, power)\n",
    "            threshold_90 = x\n",
    "            first_90 = False \n",
    "        if power >= 80 and first_80 == True:\n",
    "            #print(x, power)\n",
    "            threshold_80 = x\n",
    "            first_80 = False \n",
    "        if power >= 70 and first_70 == True:\n",
    "            #print(x, power)\n",
    "            threshold_70 = x\n",
    "            first_70 = False  \n",
    "    return(threshold_70, threshold_80, threshold_90)\n",
    "    \n",
    "test_threshold_70 = get_threshold(test_frac, test_power)[0]\n",
    "test_threshold_80 = get_threshold(test_frac, test_power)[1]\n",
    "test_threshold_90 = get_threshold(test_frac, test_power)[2]\n",
    "\n",
    "test_2_threshold_70 = get_threshold(test_frac, test_2_power)[0]\n",
    "test_2_threshold_80 = get_threshold(test_frac, test_2_power)[1]\n",
    "test_2_threshold_90 = get_threshold(test_frac, test_2_power)[2]\n",
    "\n",
    "print(test_threshold_80)\n",
    "print(test_2_threshold_80)\n",
    "\n",
    "    \n",
    "fig, ax = plt.subplots()\n",
    "ax.plot(2 * test_frac * 100, np.array(test_power) * 100, linewidth = 2, color = 'red', label = 'Category 1: +/- 10% pricing change')\n",
    "ax.plot(2 * test_frac * 100, np.array(test_2_power) * 100, linewidth = 2, color = 'blue', label = 'Category 2: +/- 20% pricing change')\n",
    "ax.set_xlabel('X% for pricing test', fontsize = 12)\n",
    "ax.set_ylabel('Power of test', fontsize = 12)\n",
    "ax.set_title('Power of test at 95% CL (control group size fixed at 35%)')\n",
    "ax.axhline(y=90, linestyle='--', color='black', linewidth=1)\n",
    "ax.axhline(y=80, linestyle='--', color='black', linewidth=1)\n",
    "ax.axhline(y=70, linestyle='--', color='black', linewidth=1)\n",
    "\n",
    "#ax.axvline(x=test_threshold_90, linestyle='--', color='black', linewidth=1)\n",
    "ax.axvline(x=test_threshold_80, linestyle='--', color='black', linewidth=1)\n",
    "#ax.axvline(x=test_threshold_70, linestyle='--', color='black', linewidth=1)\n",
    "\n",
    "ax.axvline(x=test_2_threshold_80, linestyle='--', color='black', linewidth=1)\n",
    "\n",
    "#ax.set_xlim(0, 20)\n",
    "ax.set_xlim(0, 100)\n",
    "\n",
    "handles, labels = ax.get_legend_handles_labels()\n",
    "ax.legend(handles, labels, loc = 'best', fontsize = 12)\n",
    "plt.savefig('size_estimation.png')\n",
    "\n",
    "\n",
    "\n",
    "# test_cl = np.linspace(0, 1, num=50)\n",
    "# test_power_n1 = []\n",
    "# test_power_n2 = []\n",
    "# test_power_n3 = []\n",
    "# for x in test_cl: \n",
    "#     test_power_n1.append(Power_Estimator(120000, \n",
    "#                                          (1 - 2*0.01) * 0.1, 0.01 * 0.1, \n",
    "#                                          0.32, 0.32 * 1.2, x).get_power(one_side = True)['power'])\n",
    "#     test_power_n2.append(Power_Estimator(120000, \n",
    "#                                          (1 - 2*0.05) * 0.1, 0.05 * 0.1, \n",
    "#                                          0.32, 0.32 * 1.2, x).get_power(one_side = True)['power'])\n",
    "#     test_power_n3.append(Power_Estimator(120000, \n",
    "#                                          (1 - 2*0.10) * 0.1, 0.10 * 0.1, \n",
    "#                                          0.32, 0.32 * 1.2, x).get_power(one_side = True)['power'])\n",
    "# fig, ax = plt.subplots()\n",
    "# ax.plot(np.array(test_cl) * 100, np.array(test_power_n1) * 100, label = 'X% = 1%')\n",
    "# ax.plot(np.array(test_cl) * 100, np.array(test_power_n2) * 100, label = 'X% = 5%')\n",
    "# ax.plot(np.array(test_cl) * 100, np.array(test_power_n3) * 100, label = 'X% = 10%')\n",
    "# ax.set_xlabel('Confidence level', fontsize = 12)\n",
    "# ax.set_ylabel('Power of test', fontsize = 12)\n",
    "# handles, labels = ax.get_legend_handles_labels()\n",
    "# ax.legend(handles, labels, loc = 'best', fontsize = 12)\n",
    "# ax.set_xlim(0, 105)\n",
    "# ax.set_ylim(0, 105)\n",
    "# plt.savefig('power_and_CL.png')\n",
    "\n"
   ]
  },
  {
   "cell_type": "code",
   "execution_count": 71,
   "metadata": {
    "collapsed": false
   },
   "outputs": [
    {
     "name": "stderr",
     "output_type": "stream",
     "text": [
      "/Users/xwang/anaconda/lib/python3.4/site-packages/ipykernel/__main__.py:20: VisibleDeprecationWarning: boolean index did not match indexed array along dimension 0; dimension is 51 but corresponding boolean dimension is 50\n",
      "/Users/xwang/anaconda/lib/python3.4/site-packages/ipykernel/__main__.py:21: VisibleDeprecationWarning: boolean index did not match indexed array along dimension 0; dimension is 51 but corresponding boolean dimension is 50\n",
      "/Users/xwang/anaconda/lib/python3.4/site-packages/ipykernel/__main__.py:23: VisibleDeprecationWarning: boolean index did not match indexed array along dimension 0; dimension is 51 but corresponding boolean dimension is 50\n",
      "/Users/xwang/anaconda/lib/python3.4/site-packages/ipykernel/__main__.py:27: VisibleDeprecationWarning: boolean index did not match indexed array along dimension 0; dimension is 51 but corresponding boolean dimension is 50\n",
      "/Users/xwang/anaconda/lib/python3.4/site-packages/matplotlib/collections.py:590: FutureWarning: elementwise comparison failed; returning scalar instead, but in the future will perform elementwise comparison\n",
      "  if self._edgecolors == str('face'):\n"
     ]
    },
    {
     "data": {
      "image/png": "[encoded data removed]",
      "text/plain": [
       "<matplotlib.figure.Figure at 0x10cbaafd0>"
      ]
     },
     "metadata": {},
     "output_type": "display_data"
    }
   ],
   "source": [
    "\n",
    "\n",
    "power = Power_Estimator(120000, (1 - 2*0.075) / n_bins, 0.075 / n_bins, 0.32, 0.32 * magnitude, 0.95, n_bins)\n",
    "#power = Power_Estimator(120000, (1 - 2*0.075), 0.075, 0.32, 0.32 * 1.1, 0.95)\n",
    "power.get_power(one_side = True)['power']\n",
    "\n",
    "\n",
    "h0 = np.random.normal(power.get_power(one_side = True)['h0_mean'], power.get_power(one_side = True)['h0_sigma'], 50000)\n",
    "h1 = np.random.normal(power.get_power(one_side = True)['h1_mean'], power.get_power(one_side = True)['h1_sigma'], 50000)\n",
    "\n",
    "fig, ax = plt.subplots()\n",
    "fig.set_size_inches(6.1, 4.1)\n",
    "n1, bins1, patches1 = ax.hist(x = h0, normed = True, bins = 50, color = 'blue', label = r'H0: $\\mu_{0}$ = $\\epsilon_{test} - \\epsilon_{control}$ = 0', histtype='step')\n",
    "n2, bins2, patches2 = ax.hist(x = h1, normed = True, bins = 50, color = 'red', label = r'H1: $\\mu_{1}$ = $\\epsilon_{test} - \\epsilon_{control}$ = 0.064', histtype='step')\n",
    "ax.axvline(x=power.get_power(one_side = True)['h0_mean'] + \n",
    "           power.get_power(one_side = True)['z_alpha'] * power.get_power(one_side = True)['h0_sigma'], \n",
    "           linestyle='--', color='black', linewidth=1)\n",
    "critical1 = bins1 >= power.get_power(one_side = True)['h0_mean'] + power.get_power(one_side = True)['z_alpha'] * power.get_power(one_side = True)['h0_sigma'] - (min(bins2)+max(bins2))/(len(bins2) - 1) \n",
    "critical2 = bins2 >= power.get_power(one_side = True)['h0_mean'] + power.get_power(one_side = True)['z_alpha'] * power.get_power(one_side = True)['h0_sigma'] - (min(bins2)+max(bins2))/(len(bins2) - 1) \n",
    "b1 = [(bins1[critical1][i] + bins1[critical1][i+1])/2 for i, b in enumerate(bins1[critical1[:-1]])]\n",
    "b2 = [(bins2[critical2][i] + bins2[critical2][i+1])/2 for i, b in enumerate(bins2[critical2[:-1]])]\n",
    "ax.fill_between(b1,\n",
    "                np.repeat(0, len(bins1[critical1[:-1]])),\n",
    "                n1[critical1[:-1]], \n",
    "                facecolor='blue', alpha=0.6)\n",
    "ax.fill_between(b2,\n",
    "                np.repeat(0, len(bins2[critical2[:-1]])),\n",
    "                n2[critical2[:-1]], \n",
    "                facecolor='red', alpha=0.4)\n",
    "ax.set_xlabel(r'$\\mu$', fontsize = 16)\n",
    "ax.set_ylabel('Density', fontsize = 12)\n",
    "ax.set_ylim(0, 35)\n",
    "handles, labels = ax.get_legend_handles_labels()\n",
    "ax.legend(handles, labels, loc = 'upper left', fontsize = 12)\n",
    "plt.savefig('significance_level_and_power.png')\n",
    "\n",
    "\n",
    "# test_frac = np.linspace(0, 0.1, num=50)\n",
    "# #test_frac = np.array([0.00083530078347806419, 0.0012776508454989293, 0.0021063583124981662])\n",
    "# test_cl = []\n",
    "\n",
    "# for x in test_frac:\n",
    "#     # Half of the test x will be allocated to down shift, and half up => control is 1 - 2*x\n",
    "#     #cle = CL_Estimator(120000, 1 - 2*x, x, 0.32, 0.32 * 1.2)\n",
    "#     cle = CL_Estimator(120000, (1 - 2*x) * 0.5 * 0.1, x * 0.1, 0.32, 0.32 * 1.2)\n",
    "    \n",
    "#     test_cl.append(cle.get_CL(one_side = True))\n",
    "\n",
    "    \n",
    "# fig, ax = plt.subplots()\n",
    "# ax.plot(2 * test_frac * 100, np.array(test_cl) * 100)\n",
    "# ax.set_xlabel('X% for pricing test', fontsize = 12)\n",
    "# ax.set_ylabel('confidence level', fontsize = 12)\n",
    "# ax.axhline(y=95, linestyle='--', color='black', linewidth=1)\n",
    "# ax.axhline(y=90, linestyle='--', color='black', linewidth=1)\n",
    "# ax.axhline(y=85, linestyle='--', color='black', linewidth=1)\n",
    "# ax.set_xlim(0, 10)\n",
    "# #plt.savefig('size_estimation.png')\n",
    "\n",
    "\n",
    "\n",
    "# test_cl = np.linspace(0, 1, num=1000)\n",
    "# #test_cl = np.array([0.85, 0.9, 0.95])\n",
    "# test_frac = []\n",
    "\n",
    "# for x in test_cl:\n",
    "#     # Half of the test x will be allocated to down shift, and half up => control is 1 - 2*x\n",
    "#     spe = Frac_Estimator(120000, x, 2, 0.32, 0.32 * 1.2)\n",
    "#     #spe = Frac_Estimator(120000, x, x, 0.32, 0.32 * 1.2)\n",
    "    \n",
    "#     test_frac.append(spe.get_size(one_side = True))\n",
    "\n",
    "    \n",
    "# fig, ax = plt.subplots()\n",
    "# ax.plot(test_cl * 100, np.array(test_frac) * 100)\n",
    "# ax.set_xlabel('confidence level', fontsize = 12)\n",
    "# ax.set_ylabel('X% for pricing test', fontsize = 12)\n",
    "# ax.set_xlim(50, 100)\n",
    "# ax.axvline(x=95, linestyle='--', color='black', linewidth=1)\n",
    "# ax.axvline(x=90, linestyle='--', color='black', linewidth=1)\n",
    "# ax.axvline(x=85, linestyle='--', color='black', linewidth=1)\n",
    "    \n",
    "        "
   ]
  },
  {
   "cell_type": "code",
   "execution_count": 14,
   "metadata": {
    "collapsed": false
   },
   "outputs": [
    {
     "data": {
      "text/plain": [
       "240.0"
      ]
     },
     "execution_count": 14,
     "metadata": {},
     "output_type": "execute_result"
    }
   ],
   "source": [
    "120000 * 0.002 "
   ]
  },
  {
   "cell_type": "code",
   "execution_count": 15,
   "metadata": {
    "collapsed": false
   },
   "outputs": [
    {
     "data": {
      "text/plain": [
       "119520.0"
      ]
     },
     "execution_count": 15,
     "metadata": {},
     "output_type": "execute_result"
    }
   ],
   "source": [
    "120000 * 0.996"
   ]
  },
  {
   "cell_type": "code",
   "execution_count": 17,
   "metadata": {
    "collapsed": false
   },
   "outputs": [
    {
     "data": {
      "text/plain": [
       "1.6028682458027426"
      ]
     },
     "execution_count": 17,
     "metadata": {},
     "output_type": "execute_result"
    }
   ],
   "source": [
    "(0.37 - 0.32) / np.sqrt( 0.37 * (1-0.37) / 240 + 0.32 * (1-0.32)/ 119520 )"
   ]
  },
  {
   "cell_type": "code",
   "execution_count": 26,
   "metadata": {
    "collapsed": false
   },
   "outputs": [
    {
     "data": {
      "text/plain": [
       "0.1500000908139133"
      ]
     },
     "execution_count": 26,
     "metadata": {},
     "output_type": "execute_result"
    }
   ],
   "source": [
    "#1 - stats.norm.cdf(1.6028682458027426)\n",
    "1 - stats.norm.cdf(1.036433)"
   ]
  },
  {
   "cell_type": "code",
   "execution_count": 22,
   "metadata": {
    "collapsed": false
   },
   "outputs": [
    {
     "data": {
      "text/plain": [
       "0.031164884084494842"
      ]
     },
     "execution_count": 22,
     "metadata": {},
     "output_type": "execute_result"
    }
   ],
   "source": [
    "np.sqrt( 0.37 * (1-0.37) / 240)"
   ]
  },
  {
   "cell_type": "code",
   "execution_count": 23,
   "metadata": {
    "collapsed": false
   },
   "outputs": [
    {
     "data": {
      "text/plain": [
       "0.0013493019663957401"
      ]
     },
     "execution_count": 23,
     "metadata": {},
     "output_type": "execute_result"
    }
   ],
   "source": [
    "np.sqrt( 0.32 * (1-0.32)/ 119520)"
   ]
  },
  {
   "cell_type": "code",
   "execution_count": 51,
   "metadata": {
    "collapsed": false
   },
   "outputs": [
    {
     "data": {
      "text/plain": [
       "array([ 0.        ,  0.05263158,  0.10526316,  0.15789474,  0.21052632,\n",
       "        0.26315789,  0.31578947,  0.36842105,  0.42105263,  0.47368421,\n",
       "        0.52631579,  0.57894737,  0.63157895,  0.68421053,  0.73684211,\n",
       "        0.78947368,  0.84210526,  0.89473684,  0.94736842,  1.        ])"
      ]
     },
     "execution_count": 51,
     "metadata": {},
     "output_type": "execute_result"
    }
   ],
   "source": [
    "np.linspace(0, 1, num=20)"
   ]
  },
  {
   "cell_type": "code",
   "execution_count": 86,
   "metadata": {
    "collapsed": false
   },
   "outputs": [
    {
     "data": {
      "text/plain": [
       "12000.0"
      ]
     },
     "execution_count": 86,
     "metadata": {},
     "output_type": "execute_result"
    }
   ],
   "source": [
    "120000 * 0.1"
   ]
  },
  {
   "cell_type": "code",
   "execution_count": 87,
   "metadata": {
    "collapsed": false
   },
   "outputs": [
    {
     "data": {
      "text/plain": [
       "0.1"
      ]
     },
     "execution_count": 87,
     "metadata": {},
     "output_type": "execute_result"
    }
   ],
   "source": [
    "(6000+6000)/120000"
   ]
  },
  {
   "cell_type": "code",
   "execution_count": 88,
   "metadata": {
    "collapsed": false
   },
   "outputs": [
    {
     "data": {
      "text/plain": [
       "0.05263157894736842"
      ]
     },
     "execution_count": 88,
     "metadata": {},
     "output_type": "execute_result"
    }
   ],
   "source": [
    "600/(600+10800)"
   ]
  },
  {
   "cell_type": "code",
   "execution_count": 89,
   "metadata": {
    "collapsed": false
   },
   "outputs": [
    {
     "data": {
      "text/plain": [
       "1.6448536269514722"
      ]
     },
     "execution_count": 89,
     "metadata": {},
     "output_type": "execute_result"
    }
   ],
   "source": [
    "stats.norm.ppf(0.95)"
   ]
  },
  {
   "cell_type": "code",
   "execution_count": null,
   "metadata": {
    "collapsed": true
   },
   "outputs": [],
   "source": []
  }
 ],
 "metadata": {
  "kernelspec": {
   "display_name": "Python 3",
   "language": "python",
   "name": "python3"
  },
  "language_info": {
   "codemirror_mode": {
    "name": "ipython",
    "version": 3
   },
   "file_extension": ".py",
   "mimetype": "text/x-python",
   "name": "python",
   "nbconvert_exporter": "python",
   "pygments_lexer": "ipython3",
   "version": "3.4.3"
  }
 },
 "nbformat": 4,
 "nbformat_minor": 0
}
